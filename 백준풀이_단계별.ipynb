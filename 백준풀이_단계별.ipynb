{
  "nbformat": 4,
  "nbformat_minor": 0,
  "metadata": {
    "colab": {
      "provenance": [],
      "collapsed_sections": []
    },
    "kernelspec": {
      "name": "python3",
      "display_name": "Python 3"
    },
    "language_info": {
      "name": "python"
    }
  },
  "cells": [
    {
      "cell_type": "markdown",
      "source": [
        "# **입출력과 사칙연산**"
      ],
      "metadata": {
        "id": "5UM1o6pxWyZi"
      }
    },
    {
      "cell_type": "markdown",
      "source": [
        "3003"
      ],
      "metadata": {
        "id": "Fw6p2hQJXtuf"
      }
    },
    {
      "cell_type": "code",
      "execution_count": null,
      "metadata": {
        "colab": {
          "base_uri": "https://localhost:8080/"
        },
        "id": "uvsqkKDjHO8Z",
        "outputId": "519184a8-677c-4723-a769-315900bf6f95"
      },
      "outputs": [
        {
          "output_type": "stream",
          "name": "stdout",
          "text": [
            "2 1 2 1 2 1\n",
            "-1 0 0 1 0 7\n"
          ]
        }
      ],
      "source": [
        "a,b,c,d,e,f=input(\"\").split(\" \")\n",
        "print(f\"{-(int(a)-1)} {-(int(b)-1)} {-(int(c)-2)} {-(int(d)-2)} {-(int(e)-2)} {-(int(f)-8)}\")\n"
      ]
    },
    {
      "cell_type": "markdown",
      "source": [
        "10430"
      ],
      "metadata": {
        "id": "XacN7X9mXI1l"
      }
    },
    {
      "cell_type": "code",
      "source": [
        "a,b,c=input(\"\").split(\" \")\n",
        "a=int(a)\n",
        "b=int(b)\n",
        "c=int(c)\n",
        "print(f\"{(a+b)%c}\")\n",
        "print(f\"{((a%c)+(b%c))%c}\")\n",
        "print(f\"{(a*b)%c}\")\n",
        "print(f\"{((a%c)*(b%c))%c}\")"
      ],
      "metadata": {
        "colab": {
          "base_uri": "https://localhost:8080/"
        },
        "id": "jsXLSRmmIB-Y",
        "outputId": "9b71cf51-79ae-4f8a-b1c3-a023d097ac9f"
      },
      "execution_count": null,
      "outputs": [
        {
          "output_type": "stream",
          "name": "stdout",
          "text": [
            "5 8 4\n",
            "1\n",
            "1\n",
            "0\n",
            "0\n"
          ]
        }
      ]
    },
    {
      "cell_type": "markdown",
      "source": [
        "2588"
      ],
      "metadata": {
        "id": "3BOjd69LWte_"
      }
    },
    {
      "cell_type": "code",
      "source": [
        "n1=input(\"\")\n",
        "n2=input(\"\")\n",
        "li1=[]\n",
        "li2=[]\n",
        "for i in str(n1) :\n",
        "  li1.append(int(i))\n",
        "for i in str(n2) :\n",
        "  li2.append(int(i))\n",
        "a11=[li1[0]*100,li1[1]*10,li1[2]]\n",
        "a22=[li2[0],li2[1],li2[2]]\n",
        "\n",
        "a1 = (a11[0]*a22[2])+(a11[1]*a22[2])+(a11[2]*a22[2])\n",
        "a10 = (a11[0]*a22[1])+(a11[1]*a22[1])+(a11[2]*a22[1])\n",
        "a100 = (a11[0]*a22[0])+(a11[1]*a22[0])+(a11[2]*a22[0])\n",
        "print(f\"{a1}\\n{a10}\\n{a100}\\n{int(n1)*int(n2)}\")"
      ],
      "metadata": {
        "colab": {
          "base_uri": "https://localhost:8080/"
        },
        "id": "HSUafUdOJ80e",
        "outputId": "6d8ea83d-894c-47fb-ec0b-fa6da936af7f"
      },
      "execution_count": null,
      "outputs": [
        {
          "output_type": "stream",
          "name": "stdout",
          "text": [
            "472\n",
            "385\n",
            "2360\n",
            "3776\n",
            "1416\n",
            "181720\n"
          ]
        }
      ]
    },
    {
      "cell_type": "markdown",
      "source": [
        "10171"
      ],
      "metadata": {
        "id": "ECG9II1IiFYV"
      }
    },
    {
      "cell_type": "code",
      "source": [
        "print(\"\\    /\\\\\") \n",
        "print(\" )  ( ')\")\n",
        "print(\"(  /  )\")\n",
        "print(\" \\(__)|\")"
      ],
      "metadata": {
        "colab": {
          "base_uri": "https://localhost:8080/"
        },
        "id": "Fp83DlmYhRAc",
        "outputId": "3301396c-0393-4b39-f77e-49264b47597c"
      },
      "execution_count": null,
      "outputs": [
        {
          "output_type": "stream",
          "name": "stdout",
          "text": [
            "\\    /\\\n",
            " )  ( ')\n",
            "(  /  )\n",
            " \\(__)|\n"
          ]
        }
      ]
    },
    {
      "cell_type": "code",
      "source": [
        "print(\"|\\_/|\")\n",
        "print(\"|q p|   /}\")\n",
        "print(\"( 0 )\\\"\\\"\\\"\\\\\")\n",
        "print(\"|\\\"^\\\"`    |\")\n",
        "print(\"||_/=\\\\\\__|\")"
      ],
      "metadata": {
        "colab": {
          "base_uri": "https://localhost:8080/"
        },
        "id": "wbBEIctyMpu2",
        "outputId": "9bfe878e-1462-4757-8880-50595ebd2bf6"
      },
      "execution_count": 1,
      "outputs": [
        {
          "output_type": "stream",
          "name": "stdout",
          "text": [
            "|\\_/|\n",
            "|q p|   /}\n",
            "( 0 )\"\"\"\\\n",
            "|\"^\"`    |\n",
            "||_/=\\\\__|\n"
          ]
        }
      ]
    },
    {
      "cell_type": "markdown",
      "source": [],
      "metadata": {
        "id": "lvy2GxTZNCAj"
      }
    },
    {
      "cell_type": "code",
      "source": [
        "print(\"         ,r\\'\\\"7\")\n",
        "print(\"r`-_   ,'  ,/\")\n",
        "print(\" \\. \\\". L_r'\")\n",
        "print(\"   `~\\/\")\n",
        "print(\"      |\")\n",
        "print(\"      |\")\n"
      ],
      "metadata": {
        "colab": {
          "base_uri": "https://localhost:8080/"
        },
        "id": "Q8L4km3ZMuLB",
        "outputId": "82772e3a-a05d-4ac1-ccb4-35c49daff307"
      },
      "execution_count": 2,
      "outputs": [
        {
          "output_type": "stream",
          "name": "stdout",
          "text": [
            "         ,r'\"7\n",
            "r`-_   ,'  ,/\n",
            " \\. \". L_r'\n",
            "   `~\\/\n",
            "      |\n",
            "      |\n"
          ]
        }
      ]
    },
    {
      "cell_type": "markdown",
      "source": [
        "# **조건문 문제 풀이**"
      ],
      "metadata": {
        "id": "DjlQhPNTUYbg"
      }
    },
    {
      "cell_type": "code",
      "source": [
        "a,b = input().split(\" \")\n",
        "a=int(a)\n",
        "b=int(b)\n",
        "if a > b :\n",
        "    print(\">\")\n",
        "elif a < b :\n",
        "    print(\"<\")\n",
        "else : \n",
        "    print(\"==\")"
      ],
      "metadata": {
        "id": "ICM13EuHUzIG"
      },
      "execution_count": null,
      "outputs": []
    },
    {
      "cell_type": "code",
      "source": [
        "a = int(input())\n",
        "if a >= 90 and a <= 100 :\n",
        "    print(\"A\")\n",
        "elif a >= 80 and a <= 89 :\n",
        "    print(\"B\")\n",
        "elif a >= 70 and a <= 79 :\n",
        "    print(\"C\")\n",
        "elif a >= 60 and a <= 69 :\n",
        "    print(\"D\")\n",
        "else : \n",
        "    print(\"F\")"
      ],
      "metadata": {
        "colab": {
          "base_uri": "https://localhost:8080/"
        },
        "id": "EXfk6K04Ur3a",
        "outputId": "230cac2a-2755-4ef1-d019-2e9f6da174c5"
      },
      "execution_count": 6,
      "outputs": [
        {
          "output_type": "stream",
          "name": "stdout",
          "text": [
            "95\n",
            "A\n"
          ]
        }
      ]
    },
    {
      "cell_type": "code",
      "source": [
        "a = int(input())\n",
        "if a % 4 == 0 :\n",
        "    if a % 400 == 0 or not a % 100 ==0 :\n",
        "        print(1)\n",
        "    else :\n",
        "        print(0)\n",
        "else :\n",
        "    print(0)"
      ],
      "metadata": {
        "colab": {
          "base_uri": "https://localhost:8080/"
        },
        "id": "YruWTKDAUYJY",
        "outputId": "6c9b4688-69f6-4ceb-f958-97aaf22c9209"
      },
      "execution_count": 5,
      "outputs": [
        {
          "output_type": "stream",
          "name": "stdout",
          "text": [
            "2012\n",
            "1\n"
          ]
        }
      ]
    }
  ]
}