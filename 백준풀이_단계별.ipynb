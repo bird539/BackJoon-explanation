{
  "nbformat": 4,
  "nbformat_minor": 0,
  "metadata": {
    "colab": {
      "provenance": [],
      "collapsed_sections": [
        "O143mNW5UnHt"
      ],
      "toc_visible": true
    },
    "kernelspec": {
      "name": "python3",
      "display_name": "Python 3"
    },
    "language_info": {
      "name": "python"
    }
  },
  "cells": [
    {
      "cell_type": "markdown",
      "source": [
        "# **입출력과 사칙연산**"
      ],
      "metadata": {
        "id": "5UM1o6pxWyZi"
      }
    },
    {
      "cell_type": "markdown",
      "source": [
        "3003"
      ],
      "metadata": {
        "id": "Fw6p2hQJXtuf"
      }
    },
    {
      "cell_type": "code",
      "execution_count": null,
      "metadata": {
        "colab": {
          "base_uri": "https://localhost:8080/"
        },
        "id": "uvsqkKDjHO8Z",
        "outputId": "519184a8-677c-4723-a769-315900bf6f95"
      },
      "outputs": [
        {
          "output_type": "stream",
          "name": "stdout",
          "text": [
            "2 1 2 1 2 1\n",
            "-1 0 0 1 0 7\n"
          ]
        }
      ],
      "source": [
        "a,b,c,d,e,f=input(\"\").split(\" \")\n",
        "print(f\"{-(int(a)-1)} {-(int(b)-1)} {-(int(c)-2)} {-(int(d)-2)} {-(int(e)-2)} {-(int(f)-8)}\")\n"
      ]
    },
    {
      "cell_type": "markdown",
      "source": [
        "10430"
      ],
      "metadata": {
        "id": "XacN7X9mXI1l"
      }
    },
    {
      "cell_type": "code",
      "source": [
        "a,b,c=input(\"\").split(\" \")\n",
        "a=int(a)\n",
        "b=int(b)\n",
        "c=int(c)\n",
        "print(f\"{(a+b)%c}\")\n",
        "print(f\"{((a%c)+(b%c))%c}\")\n",
        "print(f\"{(a*b)%c}\")\n",
        "print(f\"{((a%c)*(b%c))%c}\")"
      ],
      "metadata": {
        "colab": {
          "base_uri": "https://localhost:8080/"
        },
        "id": "jsXLSRmmIB-Y",
        "outputId": "9b71cf51-79ae-4f8a-b1c3-a023d097ac9f"
      },
      "execution_count": null,
      "outputs": [
        {
          "output_type": "stream",
          "name": "stdout",
          "text": [
            "5 8 4\n",
            "1\n",
            "1\n",
            "0\n",
            "0\n"
          ]
        }
      ]
    },
    {
      "cell_type": "markdown",
      "source": [
        "2588"
      ],
      "metadata": {
        "id": "3BOjd69LWte_"
      }
    },
    {
      "cell_type": "code",
      "source": [
        "n1=input(\"\")\n",
        "n2=input(\"\")\n",
        "li1=[]\n",
        "li2=[]\n",
        "for i in str(n1) :\n",
        "  li1.append(int(i))\n",
        "for i in str(n2) :\n",
        "  li2.append(int(i))\n",
        "a11=[li1[0]*100,li1[1]*10,li1[2]]\n",
        "a22=[li2[0],li2[1],li2[2]]\n",
        "\n",
        "a1 = (a11[0]*a22[2])+(a11[1]*a22[2])+(a11[2]*a22[2])\n",
        "a10 = (a11[0]*a22[1])+(a11[1]*a22[1])+(a11[2]*a22[1])\n",
        "a100 = (a11[0]*a22[0])+(a11[1]*a22[0])+(a11[2]*a22[0])\n",
        "print(f\"{a1}\\n{a10}\\n{a100}\\n{int(n1)*int(n2)}\")"
      ],
      "metadata": {
        "colab": {
          "base_uri": "https://localhost:8080/"
        },
        "id": "HSUafUdOJ80e",
        "outputId": "6d8ea83d-894c-47fb-ec0b-fa6da936af7f"
      },
      "execution_count": null,
      "outputs": [
        {
          "output_type": "stream",
          "name": "stdout",
          "text": [
            "472\n",
            "385\n",
            "2360\n",
            "3776\n",
            "1416\n",
            "181720\n"
          ]
        }
      ]
    },
    {
      "cell_type": "markdown",
      "source": [
        "10171"
      ],
      "metadata": {
        "id": "ECG9II1IiFYV"
      }
    },
    {
      "cell_type": "code",
      "source": [
        "print(\"\\    /\\\\\") \n",
        "print(\" )  ( ')\")\n",
        "print(\"(  /  )\")\n",
        "print(\" \\(__)|\")"
      ],
      "metadata": {
        "colab": {
          "base_uri": "https://localhost:8080/"
        },
        "id": "Fp83DlmYhRAc",
        "outputId": "3301396c-0393-4b39-f77e-49264b47597c"
      },
      "execution_count": null,
      "outputs": [
        {
          "output_type": "stream",
          "name": "stdout",
          "text": [
            "\\    /\\\n",
            " )  ( ')\n",
            "(  /  )\n",
            " \\(__)|\n"
          ]
        }
      ]
    },
    {
      "cell_type": "code",
      "source": [
        "print(\"|\\_/|\")\n",
        "print(\"|q p|   /}\")\n",
        "print(\"( 0 )\\\"\\\"\\\"\\\\\")\n",
        "print(\"|\\\"^\\\"`    |\")\n",
        "print(\"||_/=\\\\\\__|\")"
      ],
      "metadata": {
        "colab": {
          "base_uri": "https://localhost:8080/"
        },
        "id": "wbBEIctyMpu2",
        "outputId": "9bfe878e-1462-4757-8880-50595ebd2bf6"
      },
      "execution_count": null,
      "outputs": [
        {
          "output_type": "stream",
          "name": "stdout",
          "text": [
            "|\\_/|\n",
            "|q p|   /}\n",
            "( 0 )\"\"\"\\\n",
            "|\"^\"`    |\n",
            "||_/=\\\\__|\n"
          ]
        }
      ]
    },
    {
      "cell_type": "markdown",
      "source": [],
      "metadata": {
        "id": "lvy2GxTZNCAj"
      }
    },
    {
      "cell_type": "code",
      "source": [
        "print(\"         ,r\\'\\\"7\")\n",
        "print(\"r`-_   ,'  ,/\")\n",
        "print(\" \\. \\\". L_r'\")\n",
        "print(\"   `~\\/\")\n",
        "print(\"      |\")\n",
        "print(\"      |\")\n"
      ],
      "metadata": {
        "colab": {
          "base_uri": "https://localhost:8080/"
        },
        "id": "Q8L4km3ZMuLB",
        "outputId": "82772e3a-a05d-4ac1-ccb4-35c49daff307"
      },
      "execution_count": null,
      "outputs": [
        {
          "output_type": "stream",
          "name": "stdout",
          "text": [
            "         ,r'\"7\n",
            "r`-_   ,'  ,/\n",
            " \\. \". L_r'\n",
            "   `~\\/\n",
            "      |\n",
            "      |\n"
          ]
        }
      ]
    },
    {
      "cell_type": "markdown",
      "source": [
        "# **조건문 문제 풀이**"
      ],
      "metadata": {
        "id": "DjlQhPNTUYbg"
      }
    },
    {
      "cell_type": "markdown",
      "source": [
        "1330 두 수 비교하기기"
      ],
      "metadata": {
        "id": "ZADARZD392Ur"
      }
    },
    {
      "cell_type": "code",
      "source": [
        "a,b = input().split(\" \")\n",
        "a=int(a)\n",
        "b=int(b)\n",
        "if a > b :\n",
        "    print(\">\")\n",
        "elif a < b :\n",
        "    print(\"<\")\n",
        "else : \n",
        "    print(\"==\")"
      ],
      "metadata": {
        "id": "ICM13EuHUzIG"
      },
      "execution_count": null,
      "outputs": []
    },
    {
      "cell_type": "markdown",
      "source": [
        "9498\t시험 성적"
      ],
      "metadata": {
        "id": "pGkPKyIE9__k"
      }
    },
    {
      "cell_type": "code",
      "source": [
        "a = int(input())\n",
        "if a >= 90 and a <= 100 :\n",
        "    print(\"A\")\n",
        "elif a >= 80 and a <= 89 :\n",
        "    print(\"B\")\n",
        "elif a >= 70 and a <= 79 :\n",
        "    print(\"C\")\n",
        "elif a >= 60 and a <= 69 :\n",
        "    print(\"D\")\n",
        "else : \n",
        "    print(\"F\")"
      ],
      "metadata": {
        "colab": {
          "base_uri": "https://localhost:8080/"
        },
        "id": "EXfk6K04Ur3a",
        "outputId": "230cac2a-2755-4ef1-d019-2e9f6da174c5"
      },
      "execution_count": null,
      "outputs": [
        {
          "output_type": "stream",
          "name": "stdout",
          "text": [
            "95\n",
            "A\n"
          ]
        }
      ]
    },
    {
      "cell_type": "markdown",
      "source": [
        "2753\t윤년"
      ],
      "metadata": {
        "id": "RRDghE9O-CP2"
      }
    },
    {
      "cell_type": "code",
      "source": [
        "a = int(input())\n",
        "if a % 4 == 0 :\n",
        "    if a % 400 == 0 or not a % 100 ==0 :\n",
        "        print(1)\n",
        "    else :\n",
        "        print(0)\n",
        "else :\n",
        "    print(0)"
      ],
      "metadata": {
        "colab": {
          "base_uri": "https://localhost:8080/"
        },
        "id": "YruWTKDAUYJY",
        "outputId": "6c9b4688-69f6-4ceb-f958-97aaf22c9209"
      },
      "execution_count": null,
      "outputs": [
        {
          "output_type": "stream",
          "name": "stdout",
          "text": [
            "2012\n",
            "1\n"
          ]
        }
      ]
    },
    {
      "cell_type": "markdown",
      "source": [
        "14681\t사분면 고르기"
      ],
      "metadata": {
        "id": "xdN5cNX5-y3e"
      }
    },
    {
      "cell_type": "code",
      "source": [
        "i = int(input())\n",
        "j = int(input())\n",
        "if i>0 and j>0:\n",
        "    print(1)\n",
        "elif i<0 and j>0:\n",
        "    print(2)\n",
        "elif i>0 and j<0:\n",
        "    print(4)\n",
        "else :\n",
        "    print(3)"
      ],
      "metadata": {
        "id": "57xigrKh-yD1"
      },
      "execution_count": null,
      "outputs": []
    },
    {
      "cell_type": "markdown",
      "source": [
        "2884\t알람 시계"
      ],
      "metadata": {
        "id": "F56PWPSX-D2_"
      }
    },
    {
      "cell_type": "code",
      "source": [
        "h,m=map(int, input().split())\n",
        "if m > 44:\n",
        "    print(h,m-45)\n",
        "elif m < 45 and h > 0:\n",
        "    print(h-1, m+15)\n",
        "else :\n",
        "    print(23, m+15)"
      ],
      "metadata": {
        "colab": {
          "base_uri": "https://localhost:8080/"
        },
        "id": "ae2Uk_pSrUGb",
        "outputId": "ebf12bd7-b7ae-4255-d4b8-4f5cda96b225"
      },
      "execution_count": null,
      "outputs": [
        {
          "output_type": "stream",
          "name": "stdout",
          "text": [
            "0 44\n",
            "23 59\n"
          ]
        }
      ]
    },
    {
      "cell_type": "markdown",
      "source": [
        "2525\t오븐 시계"
      ],
      "metadata": {
        "id": "B0pYDVTS-GD_"
      }
    },
    {
      "cell_type": "code",
      "source": [
        "h,m=map(int, input().split())\n",
        "n=int(input())\n",
        "h=h+((m+n)//60)\n",
        "m=(m+n)%60\n",
        "if h > 23:\n",
        "    print(f\"{h-24} {m}\")\n",
        "else :\n",
        "    print(f\"{h} {m}\")"
      ],
      "metadata": {
        "id": "MmM-jHUXy51f"
      },
      "execution_count": null,
      "outputs": []
    },
    {
      "cell_type": "markdown",
      "source": [
        "2480\t주사위 세개"
      ],
      "metadata": {
        "id": "wAIlktkQ-LYK"
      }
    },
    {
      "cell_type": "code",
      "source": [
        "s1,s2,s3=map(int, input().split())\n",
        "sl=[s1,s2,s3]\n",
        "sl.sort()\n",
        "n=0\n",
        "if sl[0] == sl[1] != sl[2]: \n",
        "    n+=sl[0]*100+1000\n",
        "elif sl[1] == sl[2] != sl[0]:\n",
        "    n+=sl[1]*100+1000\n",
        "elif sl[0] == sl[2] != sl[1]:\n",
        "    n+=sl[0]*100+1000\n",
        "elif sl[0] == sl[1] == sl[2]:\n",
        "    n+=+sl[0]*1000+10000\n",
        "else :\n",
        "    n+=sl[2]*100\n",
        "print(n)"
      ],
      "metadata": {
        "id": "JSWorbWs90tL"
      },
      "execution_count": null,
      "outputs": []
    },
    {
      "cell_type": "markdown",
      "source": [
        "# 반복문 단계"
      ],
      "metadata": {
        "id": "O143mNW5UnHt"
      }
    },
    {
      "cell_type": "markdown",
      "source": [
        "2739\t구구단"
      ],
      "metadata": {
        "id": "mXC9o5pujo8t"
      }
    },
    {
      "cell_type": "code",
      "source": [
        "n=int(input())\n",
        "for i in range(1,10):\n",
        "    print(f\"{n} * {i} = {n*i}\")"
      ],
      "metadata": {
        "id": "jQ4nekF8jkac"
      },
      "execution_count": null,
      "outputs": []
    },
    {
      "cell_type": "markdown",
      "source": [
        "10950\tA+B - 3"
      ],
      "metadata": {
        "id": "bDUMRwwCjkwC"
      }
    },
    {
      "cell_type": "code",
      "source": [
        "f=int(input())\n",
        "n=[]\n",
        "d=[]\n",
        "for i in range(1,f+1):\n",
        "    a,b=map(int, input().split())\n",
        "    n.append(a)\n",
        "    d.append(b)\n",
        "for i in range(len(n)):\n",
        "    print(n[i]+d[i])"
      ],
      "metadata": {
        "id": "EvHY3_PnjwBo"
      },
      "execution_count": null,
      "outputs": []
    },
    {
      "cell_type": "markdown",
      "source": [
        "8393\t합"
      ],
      "metadata": {
        "id": "A5kXCZ6zUsjQ"
      }
    },
    {
      "cell_type": "code",
      "source": [
        "n=int(input())\n",
        "s=0\n",
        "for i in range(1,n+1):\n",
        "    s+=i\n",
        "print(s)"
      ],
      "metadata": {
        "id": "HSo4uO_AVBMb"
      },
      "execution_count": null,
      "outputs": []
    },
    {
      "cell_type": "markdown",
      "source": [
        "25304\t영수증"
      ],
      "metadata": {
        "id": "K5nmZZIYaB61"
      }
    },
    {
      "cell_type": "code",
      "source": [
        "q1=int(input())\n",
        "q2=int(input())\n",
        "n1=0\n",
        "n2=0\n",
        "p=[]\n",
        "g=[]\n",
        "s=0\n",
        "for i in range(1,q2+1):\n",
        "    n1,n2=map(int, input().split())\n",
        "    p.append(n1)\n",
        "    g.append(n2)\n",
        "for i in range(len(p)):\n",
        "    s+=p[i]*g[i]\n",
        "if s == q1 :\n",
        "    print(\"Yes\")\n",
        "else :\n",
        "    print(\"No\")"
      ],
      "metadata": {
        "id": "wRzL9H_gaEr-"
      },
      "execution_count": null,
      "outputs": []
    },
    {
      "cell_type": "markdown",
      "source": [
        "15552\t빠른 A+B"
      ],
      "metadata": {
        "id": "VM7fkY_9cgxF"
      }
    },
    {
      "cell_type": "code",
      "source": [
        "import sys\n",
        "l=int(sys.stdin.readline().rstrip())\n",
        "a=[]\n",
        "b=[]\n",
        "for i in range(1,l+1):\n",
        "    n,f=map(int,sys.stdin.readline().split())\n",
        "    a.append(n)\n",
        "    b.append(f)\n",
        "for i in range(len(a)):\n",
        "    print(f\"{a[i]+b[i]}\")"
      ],
      "metadata": {
        "id": "-Ke8rkxacg_l"
      },
      "execution_count": null,
      "outputs": []
    },
    {
      "cell_type": "markdown",
      "source": [
        "11021\tA+B - 7"
      ],
      "metadata": {
        "id": "GAfzHIDInHCH"
      }
    },
    {
      "cell_type": "code",
      "source": [
        "f=int(input())\n",
        "n=[]\n",
        "d=[]\n",
        "for i in range(1,f+1):\n",
        "    a,b=map(int, input().split())\n",
        "    n.append(a)\n",
        "    d.append(b)\n",
        "for i in range(len(n)):\n",
        "    print(f\"Case #{i+1}: {n[i]+d[i]}\")"
      ],
      "metadata": {
        "colab": {
          "base_uri": "https://localhost:8080/"
        },
        "id": "4EM2MWhxm-kj",
        "outputId": "adf9d38d-c796-4bde-9531-15f3321ab832"
      },
      "execution_count": null,
      "outputs": [
        {
          "output_type": "stream",
          "name": "stdout",
          "text": [
            "2\n",
            "1 1\n",
            "2 2\n",
            "Case #1: 2\n",
            "Case #2: 4\n"
          ]
        }
      ]
    },
    {
      "cell_type": "markdown",
      "source": [
        "11022\tA+B - 8"
      ],
      "metadata": {
        "id": "BX5-IIUinxFa"
      }
    },
    {
      "cell_type": "code",
      "source": [
        "f=int(input())\n",
        "n=[]\n",
        "d=[]\n",
        "for i in range(1,f+1):\n",
        "    a,b=map(int, input().split())\n",
        "    n.append(a)\n",
        "    d.append(b)\n",
        "for i in range(len(n)):\n",
        "    print(f\"Case #{i+1}: {n[i]} + {d[i]} = {n[i]+d[i]}\")"
      ],
      "metadata": {
        "colab": {
          "base_uri": "https://localhost:8080/"
        },
        "id": "UEbQfwvEnx_z",
        "outputId": "345ff2f4-3bb0-4e84-ce02-ac316209f7bf"
      },
      "execution_count": null,
      "outputs": [
        {
          "output_type": "stream",
          "name": "stdout",
          "text": [
            "2\n",
            "1 1\n",
            "2 2\n",
            "Case #1: 1 + 1 = 2\n",
            "Case #2: 2 + 2 = 4\n"
          ]
        }
      ]
    },
    {
      "cell_type": "markdown",
      "source": [
        "2438\t별 찍기 - 1"
      ],
      "metadata": {
        "id": "4em73JSLoQ34"
      }
    },
    {
      "cell_type": "code",
      "source": [
        "n=int(input())\n",
        "for i in range(1, n+1):\n",
        "    print(\"*\"*i)"
      ],
      "metadata": {
        "colab": {
          "base_uri": "https://localhost:8080/"
        },
        "id": "lAv8NZlAoVHD",
        "outputId": "3d32330d-29a7-4cbb-f155-dba5bffa014a"
      },
      "execution_count": null,
      "outputs": [
        {
          "output_type": "stream",
          "name": "stdout",
          "text": [
            "5\n",
            "*\n",
            "**\n",
            "***\n",
            "****\n",
            "*****\n"
          ]
        }
      ]
    },
    {
      "cell_type": "markdown",
      "source": [
        "2439\t별 찍기 - 2"
      ],
      "metadata": {
        "id": "LI2tcLt-py39"
      }
    },
    {
      "cell_type": "code",
      "source": [
        "n=int(input())\n",
        "for i in range(1, n+1):\n",
        "  for a in range(n+1-i,1,-1):\n",
        "    print(\" \",end=\"\")\n",
        "  for b in range(i,0,-1):\n",
        "    print(\"*\",end=\"\")\n",
        "  print()"
      ],
      "metadata": {
        "colab": {
          "base_uri": "https://localhost:8080/"
        },
        "id": "T_bmTfLHp0mO",
        "outputId": "7527021f-d1d2-4de2-87cd-518573fa07f0"
      },
      "execution_count": null,
      "outputs": [
        {
          "output_type": "stream",
          "name": "stdout",
          "text": [
            "5\n",
            "    *\n",
            "   **\n",
            "  ***\n",
            " ****\n",
            "*****\n"
          ]
        }
      ]
    },
    {
      "cell_type": "markdown",
      "source": [
        "10952\tA+B - 5"
      ],
      "metadata": {
        "id": "FblHLCxQyjX2"
      }
    },
    {
      "cell_type": "code",
      "source": [
        "a=1\n",
        "b=1\n",
        "n=1\n",
        "c=[]\n",
        "d=[]\n",
        "while n == 1:\n",
        "  if a == 0 and b == 0 :\n",
        "    n=0\n",
        "    break\n",
        "  a,b=map(int, input().split())\n",
        "  c.append(a)\n",
        "  d.append(b)\n",
        "for i in range(len(c)):\n",
        "  if c[i]==0 and d[i]==0:\n",
        "    continue \n",
        "  print(c[i]+d[i])\n",
        "\n"
      ],
      "metadata": {
        "colab": {
          "base_uri": "https://localhost:8080/"
        },
        "id": "MGuIYLu5ykAf",
        "outputId": "322088f4-9df4-48e2-f239-f3716cdae079"
      },
      "execution_count": null,
      "outputs": [
        {
          "output_type": "stream",
          "name": "stdout",
          "text": [
            "1 1\n",
            "2 2\n",
            "3 3\n",
            "0 0\n",
            "2\n",
            "4\n",
            "6\n"
          ]
        }
      ]
    },
    {
      "cell_type": "markdown",
      "source": [
        "10951\tA+B - 4"
      ],
      "metadata": {
        "id": "gOf-NHYo6ZmJ"
      }
    },
    {
      "cell_type": "code",
      "source": [
        "s=[]\n",
        "a=True\n",
        "while a==True:\n",
        "    try:\n",
        "        x,y = map(int, input().split())\n",
        "        z=x+y\n",
        "        s.append(z)\n",
        "    except:\n",
        "        a=False\n",
        "for i in range(len(s)):\n",
        "    print(s[i])"
      ],
      "metadata": {
        "id": "Fa9k-FKV6Yxp"
      },
      "execution_count": null,
      "outputs": []
    },
    {
      "cell_type": "markdown",
      "source": [
        "1110\t더하기 사이클"
      ],
      "metadata": {
        "id": "netj51X_pjwN"
      }
    },
    {
      "cell_type": "code",
      "source": [
        "n=int(input())\n",
        "t=[]\n",
        "if n < 10:\n",
        "    a=str(n)\n",
        "    t=[\"0\",a]\n",
        "else:\n",
        "    t=list(str(n))\n",
        "s=1\n",
        "b=int(t[-1])+int(t[-2])\n",
        "k=list(str(b))\n",
        "a=int(t[-1]+k[-1])\n",
        "while a!=n :\n",
        "    b=int(t[-1])+int(k[-1])\n",
        "    a=int(t[-1]+k[-1])\n",
        "    t=k\n",
        "    k=list(str(b))\n",
        "    if a!=n:\n",
        "        s+=1\n",
        "    else:\n",
        "        continue\n",
        "print(s)"
      ],
      "metadata": {
        "colab": {
          "base_uri": "https://localhost:8080/"
        },
        "id": "AJQSiC-vpkqt",
        "outputId": "fdd35b98-b72d-4506-ec51-117b72142934"
      },
      "execution_count": null,
      "outputs": [
        {
          "output_type": "stream",
          "name": "stdout",
          "text": [
            "26\n",
            "4\n"
          ]
        }
      ]
    },
    {
      "cell_type": "markdown",
      "source": [
        "# 1차원 배열 단계"
      ],
      "metadata": {
        "id": "kRzmnoUoYbec"
      }
    },
    {
      "cell_type": "markdown",
      "source": [
        "10807\t개수 세기"
      ],
      "metadata": {
        "id": "yXDo0OYiYqOK"
      }
    },
    {
      "cell_type": "code",
      "source": [
        "l=int(input())\n",
        "n=input()\n",
        "l2=list(map(int, n.split()))\n",
        "q=int(input())\n",
        "\n",
        "s=0\n",
        "for i in range(0,l):\n",
        "    if l2[i]==q :\n",
        "        s+=1\n",
        "print(s)"
      ],
      "metadata": {
        "id": "bLgW6bkCYsOf"
      },
      "execution_count": null,
      "outputs": []
    },
    {
      "cell_type": "markdown",
      "source": [
        "10871\tX보다 작은 수"
      ],
      "metadata": {
        "id": "NZ6UtbGwYufI"
      }
    },
    {
      "cell_type": "code",
      "source": [
        "n,x=map(int, input().split())\n",
        "ns=input()\n",
        "ln=list(map(int, ns.split()))\n",
        "a=[]\n",
        "for i in range(len(ln)):\n",
        "    if ln[i] < x :\n",
        "        a.append(ln[i])\n",
        "for b in range(len(a)):\n",
        "    print(a[b], end=\" \")"
      ],
      "metadata": {
        "id": "Ja7lvqpeYwlq"
      },
      "execution_count": null,
      "outputs": []
    },
    {
      "cell_type": "markdown",
      "source": [
        "10818\t최소, 최대"
      ],
      "metadata": {
        "id": "rGm2nrLQYwH_"
      }
    },
    {
      "cell_type": "code",
      "source": [
        "n=int(input())\n",
        "q=input()\n",
        "ql=list(map(int, q.split()))\n",
        "ql.sort()\n",
        "\n",
        "a=[]\n",
        "a.append(ql[0])\n",
        "a.append(ql[n-1])\n",
        "\n",
        "for d in a:\n",
        "    print(d, end=\" \")\n"
      ],
      "metadata": {
        "id": "85dY7iWdbcaU"
      },
      "execution_count": null,
      "outputs": []
    },
    {
      "cell_type": "markdown",
      "source": [
        "2562\t최댓값"
      ],
      "metadata": {
        "id": "MP4U7oBuoM5B"
      }
    },
    {
      "cell_type": "code",
      "source": [
        "q=[]\n",
        "for i in range(9):\n",
        "    b=int(input())\n",
        "    q.append(b)\n",
        "a=sorted(q)\n",
        "s=[]\n",
        "s.append(a[8])\n",
        "s.append((q.index(a[8]))+1)\n",
        "for i in s:\n",
        "    print(i)"
      ],
      "metadata": {
        "id": "DZ1EaF3CoOAn"
      },
      "execution_count": null,
      "outputs": []
    },
    {
      "cell_type": "markdown",
      "source": [
        "5597\t 과제 안 내신 분..?"
      ],
      "metadata": {
        "id": "1uEq5HP0TaEG"
      }
    },
    {
      "cell_type": "code",
      "source": [
        "n={}\n",
        "for i in range(1, 31):\n",
        "  n[i] = i\n",
        "\n",
        "for i in range(1, 29):\n",
        "  a=int(input())\n",
        "  del n[a]\n",
        "\n",
        "for i in n:\n",
        "  print(i)"
      ],
      "metadata": {
        "id": "mhq26TJtb2QH"
      },
      "execution_count": null,
      "outputs": []
    },
    {
      "cell_type": "markdown",
      "source": [
        "3052\t 나머지"
      ],
      "metadata": {
        "id": "cS2HqWdJqckA"
      }
    },
    {
      "cell_type": "code",
      "source": [
        "s={}\n",
        "for i in range(10):\n",
        "    a=int(input())\n",
        "    b = i % 42\n",
        "    s[b]=b\n",
        "k=s.copy()\n",
        "for key, item in list(s.items()):\n",
        "    if k[key] == key:\n",
        "        del k[key]\n",
        "    else:\n",
        "        continue\n",
        "print(len(s)-len(k))\n"
      ],
      "metadata": {
        "id": "YdmVetQ-qdWD"
      },
      "execution_count": null,
      "outputs": []
    },
    {
      "cell_type": "markdown",
      "source": [
        "1546\t 평균"
      ],
      "metadata": {
        "id": "6TdHo3_-qiF6"
      }
    },
    {
      "cell_type": "code",
      "source": [
        "a = int(input())\n",
        "b=input()\n",
        "c=list(map(int, b.split()))\n",
        "c.sort(reverse=True)\n",
        "d=0\n",
        "for i in range(len(c)):\n",
        "    d += c[i]/c[0]*100\n",
        "print(d/a)"
      ],
      "metadata": {
        "id": "RBusrgeFqmob"
      },
      "execution_count": null,
      "outputs": []
    },
    {
      "cell_type": "markdown",
      "source": [
        "8958\t OX퀴즈"
      ],
      "metadata": {
        "id": "98BLNddBqlya"
      }
    },
    {
      "cell_type": "code",
      "source": [
        "a=int(input())\n",
        "b=[]\n",
        "for i in range(a):\n",
        "  c=input()\n",
        "  b.append(c)\n",
        "c=[]\n",
        "for i in range(a):\n",
        "    d=list(b[i])\n",
        "    e=0\n",
        "    f=0\n",
        "    for q in range(len(d)):\n",
        "        if d[q] == \"O\":\n",
        "            e+=1 \n",
        "            f+=e\n",
        "        elif d[q] == \"X\":\n",
        "            e=0\n",
        "    c.append(f) \n",
        "for i in c:\n",
        "    print(i)"
      ],
      "metadata": {
        "id": "lI7KEDsQ-vIV"
      },
      "execution_count": null,
      "outputs": []
    },
    {
      "cell_type": "markdown",
      "source": [
        "4344\t 평균은 넘겠지"
      ],
      "metadata": {
        "id": "-qdW3B7j-1S8"
      }
    },
    {
      "cell_type": "code",
      "source": [
        "a= int(input())\n",
        "l= []\n",
        "for i in range(a):\n",
        "  b=input()\n",
        "  l.append(b)\n",
        "\n",
        "for i in range(a):\n",
        "  k=[]\n",
        "  k=list(map(int, l[i].split()))\n",
        "  for j in range(len(k)):\n",
        "    c=0\n",
        "    for h in range(1,k[0]+1):\n",
        "      c+=k[h]\n",
        "    c/=k[0]\n",
        "    e=0\n",
        "    for h in range(1,k[0]+1):\n",
        "      if k[h] > c :\n",
        "        e+=1\n",
        "  s=e/k[0]*100\n",
        "  print(f\"{s:.3f}%\")"
      ],
      "metadata": {
        "colab": {
          "base_uri": "https://localhost:8080/"
        },
        "id": "38-TtHWTZOA0",
        "outputId": "7d2d7d37-2005-4075-ed8a-aeb2205d51ab"
      },
      "execution_count": null,
      "outputs": [
        {
          "output_type": "stream",
          "name": "stdout",
          "text": [
            "1\n",
            "9 100 99 98 97 96 95 94 93 91\n",
            "55.556%\n"
          ]
        }
      ]
    },
    {
      "cell_type": "markdown",
      "source": [],
      "metadata": {
        "id": "mZrq8RMSWe9H"
      }
    },
    {
      "cell_type": "code",
      "source": [
        "import time\n",
        "start_time = time.time()\n",
        "\n",
        "def a(i,j):\n",
        "\n",
        "  def z(k): \n",
        "    z1=[]\n",
        "    for x in range(1,k+1):\n",
        "      if k%x==0:\n",
        "        z1.append(x)\n",
        "    return z1\n",
        "  \n",
        "  a1=list(z(i))\n",
        "  a2=list(z(j))\n",
        "\n",
        "  a3=list(set(a1)&set(a2))\n",
        "  a4=a3[-1]\n",
        "  print(f'1:{a1}\\n2:{a2}\\na3:{a3}\\na3:{a4}')\n",
        "  s1=i//a4\n",
        "  s2=j//a4\n",
        "  s=s1*s2*a4\n",
        "  \n",
        "  return s\n",
        "    \n",
        "\n",
        "c=int(input())\n",
        "q=[]\n",
        "for i in range(c):\n",
        "  f=input()\n",
        "  qq=list(map(int, f.split()))\n",
        "  q.append(qq)\n",
        " \n",
        "for i,j in q:\n",
        "  print(a(i,j))\n",
        "\n",
        "end_time = time.time()\n",
        "print(\"run time: \", end_time - start_time)\n"
      ],
      "metadata": {
        "colab": {
          "base_uri": "https://localhost:8080/"
        },
        "id": "xYs7mC9FWeEw",
        "outputId": "91a400f6-6a81-4097-acf1-71dae571ae84"
      },
      "execution_count": null,
      "outputs": [
        {
          "output_type": "stream",
          "name": "stdout",
          "text": [
            "1\n",
            "12 25\n",
            "1:[1, 2, 3, 4, 6, 12]\n",
            "2:[1, 5, 25]\n",
            "a3:[1]\n",
            "a3:1\n",
            "300\n",
            "run time:  8.529192924499512\n"
          ]
        }
      ]
    },
    {
      "cell_type": "markdown",
      "source": [
        "# GDSC 골라준 파이썬 문제"
      ],
      "metadata": {
        "id": "EkBw96ZYlYeV"
      }
    },
    {
      "cell_type": "markdown",
      "source": [
        " 1934번 최소공배수"
      ],
      "metadata": {
        "id": "pFWtc4h0lieT"
      }
    },
    {
      "cell_type": "code",
      "source": [
        "import time\n",
        "start_time = time.time()\n",
        "\n",
        "def a(i,j):\n",
        "  def z(k): \n",
        "    z1=[]\n",
        "    for x in range(1,k+1):\n",
        "      if k%x==0:\n",
        "        z1.append(x)\n",
        "    return z1\n",
        "  a1=z(i)\n",
        "  a2=z(j)\n",
        "  a3=max(list(set(a1)&set(a2)))\n",
        "\n",
        "  def h(n):\n",
        "      return n//a3\n",
        "\n",
        "  s=h(i)*h(j)*a3\n",
        "  return s\n",
        "    \n",
        "c=1 #int(input())\n",
        "q=[]\n",
        "for i in range(c):\n",
        "  f='10 30'#input()\n",
        "  q.append(list(map(int, f.split())))\n",
        " \n",
        "for i,j in q:\n",
        "  print(a(i,j))\n",
        "\n",
        "end_time = time.time()\n",
        "print(\"run time: \", end_time - start_time)"
      ],
      "metadata": {
        "id": "3M8yoN40lpyl"
      },
      "execution_count": null,
      "outputs": []
    },
    {
      "cell_type": "code",
      "source": [
        "import time\n",
        "start_time = time.time()\n",
        "\n",
        "import math\n",
        "    \n",
        "c=int(input())\n",
        "q=[]\n",
        "for i in range(c):\n",
        "  f=input()\n",
        "  q.append(list(map(int, f.split())))\n",
        " \n",
        "for i,j in q:\n",
        "  print(math.lcm(i,j))\n",
        "\n",
        "end_time = time.time()\n",
        "print(\"run time: \", end_time - start_time)\n",
        "\n"
      ],
      "metadata": {
        "id": "iUBaPyTOlhLr"
      },
      "execution_count": null,
      "outputs": []
    }
  ]
}