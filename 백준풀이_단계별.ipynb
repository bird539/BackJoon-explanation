{
  "nbformat": 4,
  "nbformat_minor": 0,
  "metadata": {
    "colab": {
      "provenance": [],
      "collapsed_sections": [
        "5UM1o6pxWyZi"
      ],
      "toc_visible": true
    },
    "kernelspec": {
      "name": "python3",
      "display_name": "Python 3"
    },
    "language_info": {
      "name": "python"
    }
  },
  "cells": [
    {
      "cell_type": "markdown",
      "source": [
        "# **입출력과 사칙연산**"
      ],
      "metadata": {
        "id": "5UM1o6pxWyZi"
      }
    },
    {
      "cell_type": "markdown",
      "source": [
        "3003"
      ],
      "metadata": {
        "id": "Fw6p2hQJXtuf"
      }
    },
    {
      "cell_type": "code",
      "execution_count": null,
      "metadata": {
        "colab": {
          "base_uri": "https://localhost:8080/"
        },
        "id": "uvsqkKDjHO8Z",
        "outputId": "519184a8-677c-4723-a769-315900bf6f95"
      },
      "outputs": [
        {
          "output_type": "stream",
          "name": "stdout",
          "text": [
            "2 1 2 1 2 1\n",
            "-1 0 0 1 0 7\n"
          ]
        }
      ],
      "source": [
        "a,b,c,d,e,f=input(\"\").split(\" \")\n",
        "print(f\"{-(int(a)-1)} {-(int(b)-1)} {-(int(c)-2)} {-(int(d)-2)} {-(int(e)-2)} {-(int(f)-8)}\")\n"
      ]
    },
    {
      "cell_type": "markdown",
      "source": [
        "10430"
      ],
      "metadata": {
        "id": "XacN7X9mXI1l"
      }
    },
    {
      "cell_type": "code",
      "source": [
        "a,b,c=input(\"\").split(\" \")\n",
        "a=int(a)\n",
        "b=int(b)\n",
        "c=int(c)\n",
        "print(f\"{(a+b)%c}\")\n",
        "print(f\"{((a%c)+(b%c))%c}\")\n",
        "print(f\"{(a*b)%c}\")\n",
        "print(f\"{((a%c)*(b%c))%c}\")"
      ],
      "metadata": {
        "colab": {
          "base_uri": "https://localhost:8080/"
        },
        "id": "jsXLSRmmIB-Y",
        "outputId": "9b71cf51-79ae-4f8a-b1c3-a023d097ac9f"
      },
      "execution_count": null,
      "outputs": [
        {
          "output_type": "stream",
          "name": "stdout",
          "text": [
            "5 8 4\n",
            "1\n",
            "1\n",
            "0\n",
            "0\n"
          ]
        }
      ]
    },
    {
      "cell_type": "markdown",
      "source": [
        "2588"
      ],
      "metadata": {
        "id": "3BOjd69LWte_"
      }
    },
    {
      "cell_type": "code",
      "source": [
        "n1=input(\"\")\n",
        "n2=input(\"\")\n",
        "li1=[]\n",
        "li2=[]\n",
        "for i in str(n1) :\n",
        "  li1.append(int(i))\n",
        "for i in str(n2) :\n",
        "  li2.append(int(i))\n",
        "a11=[li1[0]*100,li1[1]*10,li1[2]]\n",
        "a22=[li2[0],li2[1],li2[2]]\n",
        "\n",
        "a1 = (a11[0]*a22[2])+(a11[1]*a22[2])+(a11[2]*a22[2])\n",
        "a10 = (a11[0]*a22[1])+(a11[1]*a22[1])+(a11[2]*a22[1])\n",
        "a100 = (a11[0]*a22[0])+(a11[1]*a22[0])+(a11[2]*a22[0])\n",
        "print(f\"{a1}\\n{a10}\\n{a100}\\n{int(n1)*int(n2)}\")"
      ],
      "metadata": {
        "colab": {
          "base_uri": "https://localhost:8080/"
        },
        "id": "HSUafUdOJ80e",
        "outputId": "6d8ea83d-894c-47fb-ec0b-fa6da936af7f"
      },
      "execution_count": null,
      "outputs": [
        {
          "output_type": "stream",
          "name": "stdout",
          "text": [
            "472\n",
            "385\n",
            "2360\n",
            "3776\n",
            "1416\n",
            "181720\n"
          ]
        }
      ]
    },
    {
      "cell_type": "markdown",
      "source": [
        "10171"
      ],
      "metadata": {
        "id": "ECG9II1IiFYV"
      }
    },
    {
      "cell_type": "code",
      "source": [
        "print(\"\\    /\\\\\") \n",
        "print(\" )  ( ')\")\n",
        "print(\"(  /  )\")\n",
        "print(\" \\(__)|\")"
      ],
      "metadata": {
        "colab": {
          "base_uri": "https://localhost:8080/"
        },
        "id": "Fp83DlmYhRAc",
        "outputId": "3301396c-0393-4b39-f77e-49264b47597c"
      },
      "execution_count": null,
      "outputs": [
        {
          "output_type": "stream",
          "name": "stdout",
          "text": [
            "\\    /\\\n",
            " )  ( ')\n",
            "(  /  )\n",
            " \\(__)|\n"
          ]
        }
      ]
    },
    {
      "cell_type": "code",
      "source": [
        "print(\"|\\_/|\")\n",
        "print(\"|q p|   /}\")\n",
        "print(\"( 0 )\\\"\\\"\\\"\\\\\")\n",
        "print(\"|\\\"^\\\"`    |\")\n",
        "print(\"||_/=\\\\\\__|\")"
      ],
      "metadata": {
        "colab": {
          "base_uri": "https://localhost:8080/"
        },
        "id": "wbBEIctyMpu2",
        "outputId": "9bfe878e-1462-4757-8880-50595ebd2bf6"
      },
      "execution_count": null,
      "outputs": [
        {
          "output_type": "stream",
          "name": "stdout",
          "text": [
            "|\\_/|\n",
            "|q p|   /}\n",
            "( 0 )\"\"\"\\\n",
            "|\"^\"`    |\n",
            "||_/=\\\\__|\n"
          ]
        }
      ]
    },
    {
      "cell_type": "markdown",
      "source": [],
      "metadata": {
        "id": "lvy2GxTZNCAj"
      }
    },
    {
      "cell_type": "code",
      "source": [
        "print(\"         ,r\\'\\\"7\")\n",
        "print(\"r`-_   ,'  ,/\")\n",
        "print(\" \\. \\\". L_r'\")\n",
        "print(\"   `~\\/\")\n",
        "print(\"      |\")\n",
        "print(\"      |\")\n"
      ],
      "metadata": {
        "colab": {
          "base_uri": "https://localhost:8080/"
        },
        "id": "Q8L4km3ZMuLB",
        "outputId": "82772e3a-a05d-4ac1-ccb4-35c49daff307"
      },
      "execution_count": null,
      "outputs": [
        {
          "output_type": "stream",
          "name": "stdout",
          "text": [
            "         ,r'\"7\n",
            "r`-_   ,'  ,/\n",
            " \\. \". L_r'\n",
            "   `~\\/\n",
            "      |\n",
            "      |\n"
          ]
        }
      ]
    },
    {
      "cell_type": "markdown",
      "source": [
        "# **조건문 문제 풀이**"
      ],
      "metadata": {
        "id": "DjlQhPNTUYbg"
      }
    },
    {
      "cell_type": "markdown",
      "source": [
        "1330 두 수 비교하기기"
      ],
      "metadata": {
        "id": "ZADARZD392Ur"
      }
    },
    {
      "cell_type": "code",
      "source": [
        "a,b = input().split(\" \")\n",
        "a=int(a)\n",
        "b=int(b)\n",
        "if a > b :\n",
        "    print(\">\")\n",
        "elif a < b :\n",
        "    print(\"<\")\n",
        "else : \n",
        "    print(\"==\")"
      ],
      "metadata": {
        "id": "ICM13EuHUzIG"
      },
      "execution_count": null,
      "outputs": []
    },
    {
      "cell_type": "markdown",
      "source": [
        "9498\t시험 성적"
      ],
      "metadata": {
        "id": "pGkPKyIE9__k"
      }
    },
    {
      "cell_type": "code",
      "source": [
        "a = int(input())\n",
        "if a >= 90 and a <= 100 :\n",
        "    print(\"A\")\n",
        "elif a >= 80 and a <= 89 :\n",
        "    print(\"B\")\n",
        "elif a >= 70 and a <= 79 :\n",
        "    print(\"C\")\n",
        "elif a >= 60 and a <= 69 :\n",
        "    print(\"D\")\n",
        "else : \n",
        "    print(\"F\")"
      ],
      "metadata": {
        "colab": {
          "base_uri": "https://localhost:8080/"
        },
        "id": "EXfk6K04Ur3a",
        "outputId": "230cac2a-2755-4ef1-d019-2e9f6da174c5"
      },
      "execution_count": null,
      "outputs": [
        {
          "output_type": "stream",
          "name": "stdout",
          "text": [
            "95\n",
            "A\n"
          ]
        }
      ]
    },
    {
      "cell_type": "markdown",
      "source": [
        "2753\t윤년"
      ],
      "metadata": {
        "id": "RRDghE9O-CP2"
      }
    },
    {
      "cell_type": "code",
      "source": [
        "a = int(input())\n",
        "if a % 4 == 0 :\n",
        "    if a % 400 == 0 or not a % 100 ==0 :\n",
        "        print(1)\n",
        "    else :\n",
        "        print(0)\n",
        "else :\n",
        "    print(0)"
      ],
      "metadata": {
        "colab": {
          "base_uri": "https://localhost:8080/"
        },
        "id": "YruWTKDAUYJY",
        "outputId": "6c9b4688-69f6-4ceb-f958-97aaf22c9209"
      },
      "execution_count": null,
      "outputs": [
        {
          "output_type": "stream",
          "name": "stdout",
          "text": [
            "2012\n",
            "1\n"
          ]
        }
      ]
    },
    {
      "cell_type": "markdown",
      "source": [
        "14681\t사분면 고르기"
      ],
      "metadata": {
        "id": "xdN5cNX5-y3e"
      }
    },
    {
      "cell_type": "code",
      "source": [
        "i = int(input())\n",
        "j = int(input())\n",
        "if i>0 and j>0:\n",
        "    print(1)\n",
        "elif i<0 and j>0:\n",
        "    print(2)\n",
        "elif i>0 and j<0:\n",
        "    print(4)\n",
        "else :\n",
        "    print(3)"
      ],
      "metadata": {
        "id": "57xigrKh-yD1"
      },
      "execution_count": null,
      "outputs": []
    },
    {
      "cell_type": "markdown",
      "source": [
        "2884\t알람 시계"
      ],
      "metadata": {
        "id": "F56PWPSX-D2_"
      }
    },
    {
      "cell_type": "code",
      "source": [
        "h,m=map(int, input().split())\n",
        "if m > 44:\n",
        "    print(h,m-45)\n",
        "elif m < 45 and h > 0:\n",
        "    print(h-1, m+15)\n",
        "else :\n",
        "    print(23, m+15)"
      ],
      "metadata": {
        "colab": {
          "base_uri": "https://localhost:8080/"
        },
        "id": "ae2Uk_pSrUGb",
        "outputId": "ebf12bd7-b7ae-4255-d4b8-4f5cda96b225"
      },
      "execution_count": null,
      "outputs": [
        {
          "output_type": "stream",
          "name": "stdout",
          "text": [
            "0 44\n",
            "23 59\n"
          ]
        }
      ]
    },
    {
      "cell_type": "markdown",
      "source": [
        "2525\t오븐 시계"
      ],
      "metadata": {
        "id": "B0pYDVTS-GD_"
      }
    },
    {
      "cell_type": "code",
      "source": [
        "h,m=map(int, input().split())\n",
        "n=int(input())\n",
        "h=h+((m+n)//60)\n",
        "m=(m+n)%60\n",
        "if h > 23:\n",
        "    print(f\"{h-24} {m}\")\n",
        "else :\n",
        "    print(f\"{h} {m}\")"
      ],
      "metadata": {
        "id": "MmM-jHUXy51f"
      },
      "execution_count": null,
      "outputs": []
    },
    {
      "cell_type": "markdown",
      "source": [
        "2480\t주사위 세개"
      ],
      "metadata": {
        "id": "wAIlktkQ-LYK"
      }
    },
    {
      "cell_type": "code",
      "source": [
        "s1,s2,s3=map(int, input().split())\n",
        "sl=[s1,s2,s3]\n",
        "sl.sort()\n",
        "n=0\n",
        "if sl[0] == sl[1] != sl[2]: \n",
        "    n+=sl[0]*100+1000\n",
        "elif sl[1] == sl[2] != sl[0]:\n",
        "    n+=sl[1]*100+1000\n",
        "elif sl[0] == sl[2] != sl[1]:\n",
        "    n+=sl[0]*100+1000\n",
        "elif sl[0] == sl[1] == sl[2]:\n",
        "    n+=+sl[0]*1000+10000\n",
        "else :\n",
        "    n+=sl[2]*100\n",
        "print(n)"
      ],
      "metadata": {
        "id": "JSWorbWs90tL"
      },
      "execution_count": null,
      "outputs": []
    },
    {
      "cell_type": "markdown",
      "source": [
        "# 반복문 단계"
      ],
      "metadata": {
        "id": "O143mNW5UnHt"
      }
    },
    {
      "cell_type": "markdown",
      "source": [
        "2739\t구구단"
      ],
      "metadata": {
        "id": "mXC9o5pujo8t"
      }
    },
    {
      "cell_type": "code",
      "source": [
        "n=int(input())\n",
        "for i in range(1,10):\n",
        "    print(f\"{n} * {i} = {n*i}\")"
      ],
      "metadata": {
        "id": "jQ4nekF8jkac"
      },
      "execution_count": null,
      "outputs": []
    },
    {
      "cell_type": "markdown",
      "source": [
        "10950\tA+B - 3"
      ],
      "metadata": {
        "id": "bDUMRwwCjkwC"
      }
    },
    {
      "cell_type": "code",
      "source": [
        "f=int(input())\n",
        "n=[]\n",
        "d=[]\n",
        "for i in range(1,f+1):\n",
        "    a,b=map(int, input().split())\n",
        "    n.append(a)\n",
        "    d.append(b)\n",
        "for i in range(len(n)):\n",
        "    print(n[i]+d[i])"
      ],
      "metadata": {
        "id": "EvHY3_PnjwBo"
      },
      "execution_count": null,
      "outputs": []
    },
    {
      "cell_type": "markdown",
      "source": [
        "8393\t합"
      ],
      "metadata": {
        "id": "A5kXCZ6zUsjQ"
      }
    },
    {
      "cell_type": "code",
      "source": [
        "n=int(input())\n",
        "s=0\n",
        "for i in range(1,n+1):\n",
        "    s+=i\n",
        "print(s)"
      ],
      "metadata": {
        "id": "HSo4uO_AVBMb"
      },
      "execution_count": null,
      "outputs": []
    },
    {
      "cell_type": "markdown",
      "source": [
        "25304\t영수증"
      ],
      "metadata": {
        "id": "K5nmZZIYaB61"
      }
    },
    {
      "cell_type": "code",
      "source": [
        "q1=int(input())\n",
        "q2=int(input())\n",
        "n1=0\n",
        "n2=0\n",
        "p=[]\n",
        "g=[]\n",
        "s=0\n",
        "for i in range(1,q2+1):\n",
        "    n1,n2=map(int, input().split())\n",
        "    p.append(n1)\n",
        "    g.append(n2)\n",
        "for i in range(len(p)):\n",
        "    s+=p[i]*g[i]\n",
        "if s == q1 :\n",
        "    print(\"Yes\")\n",
        "else :\n",
        "    print(\"No\")"
      ],
      "metadata": {
        "id": "wRzL9H_gaEr-"
      },
      "execution_count": null,
      "outputs": []
    },
    {
      "cell_type": "markdown",
      "source": [
        "15552\t빠른 A+B"
      ],
      "metadata": {
        "id": "VM7fkY_9cgxF"
      }
    },
    {
      "cell_type": "code",
      "source": [
        "import sys\n",
        "l=int(sys.stdin.readline().rstrip())\n",
        "a=[]\n",
        "b=[]\n",
        "for i in range(1,l+1):\n",
        "    n,f=map(int,sys.stdin.readline().split())\n",
        "    a.append(n)\n",
        "    b.append(f)\n",
        "for i in range(len(a)):\n",
        "    print(f\"{a[i]+b[i]}\")"
      ],
      "metadata": {
        "id": "-Ke8rkxacg_l"
      },
      "execution_count": null,
      "outputs": []
    }
  ]
}